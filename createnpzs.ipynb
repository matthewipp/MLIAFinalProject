{
 "cells": [
  {
   "cell_type": "code",
   "execution_count": 6,
   "metadata": {},
   "outputs": [],
   "source": [
    "import numpy as np\n",
    "from PIL import Image\n",
    "from pathlib import Path\n",
    "import math"
   ]
  },
  {
   "cell_type": "code",
   "execution_count": 2,
   "metadata": {},
   "outputs": [],
   "source": [
    "class ID(object):\n",
    "\tarray = None\n",
    "\tdef __init__(self, n = 4):\n",
    "\t\tself.array = []\n",
    "\t\tfor i in range(n):\n",
    "\t\t\tself.array.append(0)\n",
    "\n",
    "\tdef __iadd__(self, n):\n",
    "\t\tif math.log10(n) > len(self.array):\n",
    "\t\t\traise ValueError(\"Overflow imminent. Halting.\")\n",
    "\t\ti = len(self.array) - 1\n",
    "\t\tadd = n\n",
    "\t\twhile i >= 0:\n",
    "\t\t\tcurrent = add%10\n",
    "\t\t\tself.array[i]+= current\n",
    "\t\t\tadd = add//10\n",
    "\t\t\tif self.array[i] >= 10:\n",
    "\t\t\t\tself.array[i] = 0\n",
    "\t\t\t\tadd+= 1\n",
    "\t\t\ti-= 1\n",
    "\t\treturn self\n",
    "\n",
    "\tdef __add__(self, n):\n",
    "\t\tnew = ID()\n",
    "\t\tnew.array = self.array.copy()\n",
    "\t\tnew+= n\n",
    "\t\treturn new\n",
    "\n",
    "\tdef __str__(self):\n",
    "\t\treturn \"\".join(map(str, self.array))\n",
    "\n",
    "\tdef __repr__(self):\n",
    "\t\treturn self.__str__()"
   ]
  },
  {
   "cell_type": "code",
   "execution_count": 3,
   "metadata": {},
   "outputs": [],
   "source": [
    "images = Path(\"./Data/Images\")\n",
    "labels = Path(\"./Data/Labels\")\n",
    "npzs = Path(\"./Data/npzs\")\n",
    "\n",
    "if not npzs.exists():\n",
    "\tnpzs.mkdir()"
   ]
  },
  {
   "cell_type": "code",
   "execution_count": 7,
   "metadata": {},
   "outputs": [],
   "source": [
    "name = ID(4)\n",
    "names = []\n",
    "for image in images.iterdir():\n",
    "\t# print(image.name)\n",
    "\timg_file = Image.open(image)\n",
    "\tlabel_file = Image.open(labels / image.name)\n",
    "\timg = np.array(img_file)\n",
    "\tlabel = np.array(np.array(label_file)/255, dtype=int)\n",
    "\t# Conver the arrays from 64X64 to 224X224 by adding 0s\n",
    "\t# img = np.pad(img, ((80, 80), (80, 80)), 'constant')\n",
    "\t# label = np.array(np.pad(label, ((80, 80), (80, 80)), 'constant'), dtype=int)\n",
    "\tnp.savez(npzs / f\"image{name}\", image=img, label=label)\n",
    "\tnames.append(f\"image{name}\")\n",
    "\tname+= 1\n",
    "file = open(\"names.txt\", \"w\")\n",
    "file.write(\"\\n\".join(names))\n",
    "file.close()"
   ]
  },
  {
   "cell_type": "code",
   "execution_count": null,
   "metadata": {},
   "outputs": [],
   "source": [
    "# Test if the npzs are correct\n",
    "for npz in npzs.iterdir():\n",
    "\tnpz_file = np.load(npz)\n",
    "\tprint(npz_file[\"image\"].shape, npz_file[\"label\"].shape)"
   ]
  }
 ],
 "metadata": {
  "kernelspec": {
   "display_name": "MLIAFinalProject",
   "language": "python",
   "name": "python3"
  },
  "language_info": {
   "codemirror_mode": {
    "name": "ipython",
    "version": 3
   },
   "file_extension": ".py",
   "mimetype": "text/x-python",
   "name": "python",
   "nbconvert_exporter": "python",
   "pygments_lexer": "ipython3",
   "version": "3.9.13"
  },
  "orig_nbformat": 4,
  "vscode": {
   "interpreter": {
    "hash": "35edaf1af3338055e303c7e88f67ea481e8317b7445e8d8c11ee2cf09efc606a"
   }
  }
 },
 "nbformat": 4,
 "nbformat_minor": 2
}
