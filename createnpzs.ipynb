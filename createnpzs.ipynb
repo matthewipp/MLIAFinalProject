{
 "cells": [
  {
   "cell_type": "code",
   "execution_count": 1,
   "metadata": {},
   "outputs": [],
   "source": [
    "import numpy as np\n",
    "from PIL import Image\n",
    "from pathlib import Path"
   ]
  },
  {
   "cell_type": "code",
   "execution_count": 2,
   "metadata": {},
   "outputs": [],
   "source": [
    "class Name(object):\n",
    "\tarray = None\n",
    "\tdef __init__(self, n = 4):\n",
    "\t\tself.array = []\n",
    "\t\tfor i in range(n):\n",
    "\t\t\tself.array.append(0)\n",
    "\n",
    "\tdef __iadd__(self, n):\n",
    "\t\tself.array[-1]+= n\n",
    "\t\ti = len(self.array) - 1\n",
    "\t\twhile self.array[i] >= 10:\n",
    "\t\t\tself.array[i] -= 10\n",
    "\t\t\ti -= 1\n",
    "\t\t\tself.array[i] += 1\n",
    "\t\treturn self\n",
    "\tdef __str__(self):\n",
    "\t\treturn \"\".join(map(str, self.array))\n",
    "\tdef __repr__(self):\n",
    "\t\treturn self.__str__()"
   ]
  },
  {
   "cell_type": "code",
   "execution_count": 5,
   "metadata": {},
   "outputs": [],
   "source": [
    "images = Path(\"./Data/Images\")\n",
    "labels = Path(\"./Data/Labels\")\n",
    "npzs = Path(\"./Data/npzs\")\n",
    "\n",
    "if not npzs.exists():\n",
    "\tnpzs.mkdir()"
   ]
  },
  {
   "cell_type": "code",
   "execution_count": 16,
   "metadata": {},
   "outputs": [],
   "source": [
    "name = Name(4)\n",
    "names = []\n",
    "for image in images.iterdir():\n",
    "\t# print(image.name)\n",
    "\timg_file = Image.open(image)\n",
    "\tlabel_file = Image.open(labels / image.name)\n",
    "\timg = np.array(img_file)\n",
    "\tlabel = np.array(label_file)\n",
    "\t# Conver the arrays from 64X64 to 224X224 by adding 0s\n",
    "\timg = np.pad(img, ((80, 80), (80, 80)), 'constant')\n",
    "\tlabel = np.array(np.pad(label, ((80, 80), (80, 80)), 'constant')/255, dtype=int)\n",
    "\tnp.savez(npzs / f\"image{name}\", image=img, label=label)\n",
    "\tnames.append(f\"image{name}\")\n",
    "\tname+= 1\n",
    "file = open(\"names.txt\", \"w\")\n",
    "file.write(\"\\n\".join(names))\n",
    "file.close()"
   ]
  },
  {
   "cell_type": "code",
   "execution_count": 17,
   "metadata": {},
   "outputs": [
    {
     "name": "stdout",
     "output_type": "stream",
     "text": [
      "(224, 224) (224, 224)\n",
      "(224, 224) (224, 224)\n",
      "(224, 224) (224, 224)\n",
      "(224, 224) (224, 224)\n",
      "(224, 224) (224, 224)\n",
      "(224, 224) (224, 224)\n",
      "(224, 224) (224, 224)\n",
      "(224, 224) (224, 224)\n",
      "(224, 224) (224, 224)\n",
      "(224, 224) (224, 224)\n",
      "(224, 224) (224, 224)\n",
      "(224, 224) (224, 224)\n",
      "(224, 224) (224, 224)\n",
      "(224, 224) (224, 224)\n",
      "(224, 224) (224, 224)\n",
      "(224, 224) (224, 224)\n",
      "(224, 224) (224, 224)\n",
      "(224, 224) (224, 224)\n",
      "(224, 224) (224, 224)\n",
      "(224, 224) (224, 224)\n",
      "(224, 224) (224, 224)\n",
      "(224, 224) (224, 224)\n",
      "(224, 224) (224, 224)\n",
      "(224, 224) (224, 224)\n",
      "(224, 224) (224, 224)\n",
      "(224, 224) (224, 224)\n",
      "(224, 224) (224, 224)\n",
      "(224, 224) (224, 224)\n",
      "(224, 224) (224, 224)\n",
      "(224, 224) (224, 224)\n",
      "(224, 224) (224, 224)\n",
      "(224, 224) (224, 224)\n",
      "(224, 224) (224, 224)\n",
      "(224, 224) (224, 224)\n",
      "(224, 224) (224, 224)\n",
      "(224, 224) (224, 224)\n",
      "(224, 224) (224, 224)\n",
      "(224, 224) (224, 224)\n",
      "(224, 224) (224, 224)\n",
      "(224, 224) (224, 224)\n",
      "(224, 224) (224, 224)\n",
      "(224, 224) (224, 224)\n",
      "(224, 224) (224, 224)\n"
     ]
    }
   ],
   "source": [
    "# Test if the npzs are correct\n",
    "for npz in npzs.iterdir():\n",
    "\tnpz_file = np.load(npz)\n",
    "\tprint(npz_file[\"image\"].shape, npz_file[\"label\"].shape)"
   ]
  }
 ],
 "metadata": {
  "kernelspec": {
   "display_name": "Python 3.10.8 64-bit",
   "language": "python",
   "name": "python3"
  },
  "language_info": {
   "codemirror_mode": {
    "name": "ipython",
    "version": 3
   },
   "file_extension": ".py",
   "mimetype": "text/x-python",
   "name": "python",
   "nbconvert_exporter": "python",
   "pygments_lexer": "ipython3",
   "version": "3.10.8"
  },
  "orig_nbformat": 4,
  "vscode": {
   "interpreter": {
    "hash": "e7370f93d1d0cde622a1f8e1c04877d8463912d04d973331ad4851f04de6915a"
   }
  }
 },
 "nbformat": 4,
 "nbformat_minor": 2
}
