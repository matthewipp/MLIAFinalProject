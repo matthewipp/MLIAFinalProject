{
 "cells": [
  {
   "cell_type": "markdown",
   "metadata": {},
   "source": [
    "Images need to be normalized from 0 to 1, relative to the overal intensity of the 1024x1024 image not the overall intensity of an individual patch"
   ]
  },
  {
   "cell_type": "code",
   "execution_count": 13,
   "metadata": {},
   "outputs": [],
   "source": [
    "from scipy import ndimage\n",
    "import numpy as np\n",
    "from pathlib import Path\n",
    "\n",
    "def random_rot_flip(image, label):\n",
    "    k = np.random.randint(0, 4)\n",
    "    image = np.rot90(image, k)\n",
    "    label = np.rot90(label, k)\n",
    "    axis = np.random.randint(0, 2)\n",
    "    image = np.flip(image, axis=axis).copy()\n",
    "    label = np.flip(label, axis=axis).copy()\n",
    "    return image, label\n",
    "\n",
    "def zip_and_augment(labelfolder, outfolder):\n",
    "    if (outfolder.exists() == False):\n",
    "        outfolder.mkdir()\n",
    "    counter = 0\n",
    "    names = []\n",
    "    for label_name in labelfolder.glob(\"*.npz\"):\n",
    "\n",
    "        imglabel = np.load(label_name)\n",
    "        img = imglabel[\"image\"]\n",
    "        lbl = imglabel[\"label\"]\n",
    "        img, lbl = random_rot_flip(img,lbl)\n",
    "\n",
    "        imageaddress = outfolder / (\"augmented_\"+str(counter))\n",
    "        names.append(\"augmented_\"+str(counter))\n",
    "        np.savez(imageaddress, image=img, label=lbl)\n",
    "        counter+=1\n",
    "\n",
    "        img, lbl = random_rot_flip(img,lbl)\n",
    "        imageaddress = outfolder / (\"augmented_\"+str(counter))\n",
    "        names.append(\"augmented_\"+str(counter))\n",
    "        np.savez(imageaddress,image=img, label=lbl)\n",
    "        counter+=1\n",
    "    with open(\"augmented_names.txt\", \"w\") as f:\n",
    "        f.write(\"\\n\".join(names))\n",
    "\n",
    "    return"
   ]
  },
  {
   "cell_type": "code",
   "execution_count": 14,
   "metadata": {},
   "outputs": [],
   "source": [
    "zip_and_augment(Path(\"./Data/npzs\"), Path(\"./Data/augmented/\"))"
   ]
  }
 ],
 "metadata": {
  "kernelspec": {
   "display_name": "MLIAFinalProject",
   "language": "python",
   "name": "python3"
  },
  "language_info": {
   "codemirror_mode": {
    "name": "ipython",
    "version": 3
   },
   "file_extension": ".py",
   "mimetype": "text/x-python",
   "name": "python",
   "nbconvert_exporter": "python",
   "pygments_lexer": "ipython3",
   "version": "3.9.13"
  },
  "orig_nbformat": 4,
  "vscode": {
   "interpreter": {
    "hash": "35edaf1af3338055e303c7e88f67ea481e8317b7445e8d8c11ee2cf09efc606a"
   }
  }
 },
 "nbformat": 4,
 "nbformat_minor": 2
}
