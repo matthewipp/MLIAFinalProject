{
 "cells": [
  {
   "cell_type": "code",
   "execution_count": 10,
   "metadata": {},
   "outputs": [],
   "source": [
    "import numpy as np\n",
    "import random\n",
    "import math\n",
    "from scipy.ndimage import map_coordinates\n",
    "from scipy.ndimage import rotate\n",
    "from scipy.ndimage import shift\n",
    "import matplotlib.pyplot as plt\n",
    "from os import listdir\n",
    "import PIL\n",
    "from PIL import Image\n",
    "import cv2\n",
    "\n",
    "\n",
    "\n",
    "training_label_folders = ['/Users/apple/Sync/Research/NiCr XPEEM/Labeled Images/Movie 3 random crops/Labels',\n",
    "            '/Users/apple/Sync/Research/NiCr XPEEM/Labeled Images/Movie 2 random crops/Labels',\n",
    "            '/Users/apple/Sync/Research/NiCr XPEEM/Labeled Images/Time Series mov3 location 256_320/Labels',\n",
    "            '/Users/apple/Sync/Research/NiCr XPEEM/Labeled Images/Spatial Mov3 Frame87/Labels']\n",
    "\n",
    "training_image_folders = ['/Users/apple/Sync/Research/NiCr XPEEM/Labeled Images/Movie 3 random crops/Images',\n",
    "            '/Users/apple/Sync/Research/NiCr XPEEM/Labeled Images/Movie 2 random crops/Images',\n",
    "            '/Users/apple/Sync/Research/NiCr XPEEM/Labeled Images/Time Series mov3 location 256_320/Images',\n",
    "            '/Users/apple/Sync/Research/NiCr XPEEM/Labeled Images/Spatial Mov3 Frame87/Images']\n"
   ]
  },
  {
   "cell_type": "markdown",
   "metadata": {},
   "source": [
    "Images need to be normalized from 0 to 1, relative to the overal intensity of the 1024x1024 image not the overall intensity of an individual patch"
   ]
  },
  {
   "cell_type": "code",
   "execution_count": 11,
   "metadata": {},
   "outputs": [],
   "source": [
    "from os import listdir\n",
    "import PIL\n",
    "from PIL import Image\n",
    "import numpy as np\n",
    "import matplotlib.pyplot as plt\n",
    "\n",
    "def normalize_folder(datafolder,outfolder):\n",
    "    \"\"\"Takes all of the .tif files in a folder and divides them by a constant to normalize them\"\"\"\n",
    "    foldername = datafolder\n",
    "    image_names = listdir(foldername)\n",
    "\n",
    "    for image_name in image_names:\n",
    "        if \".tif\" not in image_name:\n",
    "            continue\n",
    "        print(image_name)\n",
    "\n",
    "        image = plt.imread(foldername+image_name)\n",
    "        image= image/65530\n",
    "\n",
    "        savecrop = Image.fromarray(image)\n",
    "        imageaddress = outfolder+image_name\n",
    "        savecrop.save(imageaddress)\n",
    "    \n",
    "\n",
    "    return\n",
    "\n",
    "\n",
    "\n",
    "def tif_to_npy(datafolder,outfolder):\n",
    "    \"\"\"Converts all the .tif files in a folder to .npy files \"\"\"\n",
    "    foldername = datafolder\n",
    "    image_names = listdir(foldername)\n",
    "\n",
    "    for image_name in image_names:\n",
    "        if \".tif\" not in image_name:\n",
    "            continue\n",
    "        print(image_name)\n",
    "\n",
    "        image = plt.imread(foldername+image_name)\n",
    "        imageaddress = outfolder+image_name\n",
    "        imageaddress = imageaddress[:-4]\n",
    "        np.save(imageaddress,image)\n",
    "    return\n",
    "\n",
    "\n",
    "def image_label_zipper(labelfolder,imagefolder,outfolder):\n",
    "    image_names = listdir(imagefolder)\n",
    "    label_names = listdir(labelfolder)\n",
    "    counter = 0\n",
    "    for label_name in label_names:\n",
    "        if '.tif' not in label_name:\n",
    "            continue\n",
    "\n",
    "\n",
    "        img = plt.imread(imagefolder+label_name)\n",
    "        lbl = plt.imread(labelfolder+label_name)\n",
    "\n",
    "        imageaddress = outfolder+\"label_\"+str(counter)\n",
    "        np.savez(imageaddress,image=img, label=lbl)\n",
    "        counter+=1\n",
    "\n",
    "\n",
    "    return"
   ]
  },
  {
   "cell_type": "code",
   "execution_count": 12,
   "metadata": {},
   "outputs": [
    {
     "name": "stdout",
     "output_type": "stream",
     "text": [
      "(64, 64)\n"
     ]
    }
   ],
   "source": [
    "#tif_to_npy('/Users/apple/Sync/Research/NiCr XPEEM/Labeled Images/png labels/','/Users/apple/Sync/Research/NiCr XPEEM/Labeled Images/npy labels/')\n",
    "\n",
    "image_label_zipper('/Users/apple/Sync/Research/NiCr XPEEM/Labeled Images/png labels/','/Users/apple/Sync/Research/NiCr XPEEM/Labeled Images/png images/', '/Users/apple/Sync/Research/NiCr XPEEM/Labeled Images/zipped npy labels/')\n",
    "\n",
    "test = np.load('/Users/apple/Sync/Research/NiCr XPEEM/Labeled Images/zipped npy labels/label_38.npz')\n",
    "\n",
    "print(test['label'].shape)\n"
   ]
  },
  {
   "cell_type": "code",
   "execution_count": null,
   "metadata": {},
   "outputs": [],
   "source": []
  },
  {
   "cell_type": "code",
   "execution_count": 15,
   "metadata": {},
   "outputs": [],
   "source": [
    "from scipy import ndimage\n",
    "\n",
    "def random_rot_flip(image, label):\n",
    "    k = np.random.randint(0, 4)\n",
    "    image = np.rot90(image, k)\n",
    "    label = np.rot90(label, k)\n",
    "    axis = np.random.randint(0, 2)\n",
    "    image = np.flip(image, axis=axis).copy()\n",
    "    label = np.flip(label, axis=axis).copy()\n",
    "    return image, label\n",
    "\n",
    "def zip_and_augment(labelfolder, imagefolder,outfolder):\n",
    "    image_names = listdir(imagefolder)\n",
    "    label_names = listdir(labelfolder)\n",
    "    counter = 0\n",
    "    for label_name in label_names:\n",
    "        if '.npz' not in label_name:\n",
    "            continue\n",
    "\n",
    "\n",
    "        imglabel = np.load(imagefolder+label_name)\n",
    "        img = imglabel[\"image\"]\n",
    "        lbl = imglabel[\"label\"]\n",
    "        img, lbl = random_rot_flip(img,lbl)\n",
    "\n",
    "        imageaddress = outfolder+\"augmented_\"+str(counter)\n",
    "        np.savez(imageaddress,image=img, label=lbl)\n",
    "        counter+=1\n",
    "\n",
    "        img, lbl = random_rot_flip(img,lbl)\n",
    "        imageaddress = outfolder+\"augmented_\"+str(counter)\n",
    "        np.savez(imageaddress,image=img, label=lbl)\n",
    "        counter+=1\n",
    "\n",
    "\n",
    "    return\n",
    "\n",
    "zip_and_augment('/Users/apple/MLIAFinalProject/Data/npzs/','/Users/apple/MLIAFinalProject/Data/npzs/', '/Users/apple/Sync/Research/NiCr XPEEM/Labeled Images/zipped npy labels/')\n",
    "\n",
    "test = np.load('/Users/apple/Sync/Research/NiCr XPEEM/Labeled Images/zipped npy labels/augmented_38.npz')\n",
    "\n",
    "print(test['label'].shape)\n",
    "\n"
   ]
  },
  {
   "cell_type": "code",
   "execution_count": 16,
   "metadata": {},
   "outputs": [
    {
     "name": "stdout",
     "output_type": "stream",
     "text": [
      "(64, 64)\n"
     ]
    }
   ],
   "source": [
    "zip_and_augment('/Users/apple/MLIAFinalProject/Data/npzs/','/Users/apple/MLIAFinalProject/Data/npzs/', '/Users/apple/Sync/Research/NiCr XPEEM/Labeled Images/zipped npy labels/')\n",
    "\n",
    "test = np.load('/Users/apple/Sync/Research/NiCr XPEEM/Labeled Images/zipped npy labels/augmented_38.npz')\n",
    "\n",
    "print(test['label'].shape)"
   ]
  }
 ],
 "metadata": {
  "kernelspec": {
   "display_name": "Python 3.8.8 ('base')",
   "language": "python",
   "name": "python3"
  },
  "language_info": {
   "codemirror_mode": {
    "name": "ipython",
    "version": 3
   },
   "file_extension": ".py",
   "mimetype": "text/x-python",
   "name": "python",
   "nbconvert_exporter": "python",
   "pygments_lexer": "ipython3",
   "version": "3.8.8"
  },
  "orig_nbformat": 4,
  "vscode": {
   "interpreter": {
    "hash": "cf1ee66cb0a5dbbe9b15b35d8b5ef163dfe6de55254de5ac3d70cf481ad0a057"
   }
  }
 },
 "nbformat": 4,
 "nbformat_minor": 2
}
