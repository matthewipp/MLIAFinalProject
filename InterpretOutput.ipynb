{
 "cells": [
  {
   "cell_type": "code",
   "execution_count": 1,
   "metadata": {},
   "outputs": [],
   "source": [
    "import matplotlib.pyplot as plt\n",
    "from pathlib import Path\n",
    "import re"
   ]
  },
  {
   "cell_type": "code",
   "execution_count": 2,
   "metadata": {},
   "outputs": [],
   "source": [
    "# Regular expression to match the output of the simulation\n",
    "LOSS_PER_IT = re.compile(r\"[0-9]*\\/[0-9]*.*iteration\\s[0-9]*\\s:\\sloss\\s:\\s[0-9]*\\.[0-9]*,\\sloss_ce:\\s[0-9]*\\.[0-9]*\\niteration\\s[0-9]*\\s:\\sloss\\s:\\s[0-9]*\\.[0-9]*,\\sloss_ce:\\s[0-9]*\\.[0-9]*\")\n",
    "TEST_PER_IM = re.compile(r\"idx\\s[1-9]\\scase\\saugmented_[0-9]*\\smean_dice\\s[0-9\\.]mean_hd95\\s[0-9\\.]\")\n",
    "MEAN_TEST   = re.compile(r\"Testing\\sperformance\\sin\\sbest\\sval\\smodel:\\smean_dice\\s:\\s[0-9]*\\smean_hd95\\s:\\s[0-9]*\")"
   ]
  },
  {
   "cell_type": "code",
   "execution_count": 3,
   "metadata": {},
   "outputs": [],
   "source": [
    "# File where the run outputs have been written to\n",
    "path = Path(\"./outputs/Output.txt\")\n",
    "data = None\n",
    "with open(path, \"rb\") as f:\n",
    "\tdata = f.read().decode(\"utf-8\", \"replace\")"
   ]
  },
  {
   "cell_type": "code",
   "execution_count": 4,
   "metadata": {},
   "outputs": [],
   "source": [
    "# This dictionary will contain all the parsed data\n",
    "data_per_epoch = {}"
   ]
  },
  {
   "cell_type": "code",
   "execution_count": 5,
   "metadata": {},
   "outputs": [
    {
     "ename": "ValueError",
     "evalue": "not enough values to unpack (expected 2, got 1)",
     "output_type": "error",
     "traceback": [
      "\u001b[1;31m---------------------------------------------------------------------------\u001b[0m",
      "\u001b[1;31mValueError\u001b[0m                                Traceback (most recent call last)",
      "Cell \u001b[1;32mIn[5], line 10\u001b[0m\n\u001b[0;32m      8\u001b[0m \tdata_per_epoch[max_epochs] \u001b[39m=\u001b[39m []\n\u001b[0;32m      9\u001b[0m \u001b[39m# Get the loss and loss_ce\u001b[39;00m\n\u001b[1;32m---> 10\u001b[0m loss, loss_ce \u001b[39m=\u001b[39m matchstr\u001b[39m.\u001b[39msplit(\u001b[39m\"\u001b[39m\u001b[39mloss : \u001b[39m\u001b[39m\"\u001b[39m)[\u001b[39m1\u001b[39m]\u001b[39m.\u001b[39msplit(\u001b[39m\"\u001b[39m\u001b[39m, loss_ce : \u001b[39m\u001b[39m\"\u001b[39m)\n\u001b[0;32m     11\u001b[0m \u001b[39m# Add the loss and loss_ce to the dictionary\u001b[39;00m\n\u001b[0;32m     12\u001b[0m data_per_epoch[max_epochs]\u001b[39m.\u001b[39mappend((loss, loss_ce))\n",
      "\u001b[1;31mValueError\u001b[0m: not enough values to unpack (expected 2, got 1)"
     ]
    }
   ],
   "source": [
    "# First loss and loss_ce per iteration for all the different max_epocs run\n",
    "for match in LOSS_PER_IT.finditer(data):\n",
    "\tmatchstr = match.group(0)\n",
    "\t# Get the epoch number\n",
    "\tcurrent_epoch, max_epochs = matchstr.split(\" \")[0].split(\"/\")\n",
    "\t# If the max_epochs is not in the dictionary, add it\n",
    "\tif max_epochs not in data_per_epoch:\n",
    "\t\tdata_per_epoch[max_epochs] = []\n",
    "\t# Get the loss and loss_ce\n",
    "\tloss, loss_ce = matchstr.split(\"loss : \")[1].split(\", loss_ce: \")\n",
    "\t# Add the loss and loss_ce to the dictionary\n",
    "\tdata_per_epoch[max_epochs].append((float(loss), float(loss_ce)))\n",
    "\n",
    "# Get the mean dice and mean hd95 for all the different max_epocs run\n",
    "for match in MEAN_TEST.finditer(data):\n",
    "\tmatchstr = match.group(0)\n",
    "\t# Get the epoch number\n",
    "\tcurrent_epoch, max_epochs = matchstr.split(\"mean_dice : \")[1].split(\" mean_hd95 \")\n",
    "\t# If the max_epochs is not in the dictionary, add it\n",
    "\tif max_epochs not in data_per_epoch:\n",
    "\t\tdata_per_epoch[max_epochs] = []\n",
    "\t# Get the mean dice and mean hd95\n",
    "\tmean_dice, mean_hd95 = matchstr.split(\"mean_dice : \")[1].split(\" mean_hd95 : \")\n",
    "\t# Add the mean dice and mean hd95 to the dictionary\n",
    "\tdata_per_epoch[max_epochs].append((mean_dice, mean_hd95))\n",
    "\n",
    "# Plot the loss and loss_ce for each max_epochs\n",
    "for max_epochs in data_per_epoch:\n",
    "\t# Get the loss and loss_ce for each epoch\n",
    "\tloss, loss_ce = zip(*data_per_epoch[max_epochs][0::2])\n",
    "\t# Plot the loss and loss_ce\n",
    "\tplt.plot(loss, label=\"loss\")\n",
    "\tplt.plot(loss_ce, label=\"loss_ce\")\n",
    "\tplt.xlabel(\"Epoch\")\n",
    "\tplt.ylabel(\"Loss\")\n",
    "\tplt.legend()\n",
    "\tplt.title(\"Loss for max_epochs = {}\".format(max_epochs))\n",
    "\tplt.show()\n",
    "\n",
    "\t# Get the mean dice and mean hd95 for each epoch\n",
    "\tmean_dice, mean_hd95 = zip(*data_per_epoch[max_epochs][1::2])\n",
    "\t# Plot the mean dice and mean hd95\n",
    "\tplt.plot(mean_dice, label=\"mean_dice\")\n",
    "\tplt.plot(mean_hd95, label=\"mean_hd95\")\n",
    "\tplt.xlabel(\"Epoch\")\n",
    "\tplt.ylabel(\"Mean\")\n",
    "\tplt.legend()\n",
    "\tplt.title(\"Mean for max_epochs = {}\".format(max_epochs))\n",
    "\tplt.show()"
   ]
  }
 ],
 "metadata": {
  "kernelspec": {
   "display_name": "MLIAFinalProject",
   "language": "python",
   "name": "python3"
  },
  "language_info": {
   "codemirror_mode": {
    "name": "ipython",
    "version": 3
   },
   "file_extension": ".py",
   "mimetype": "text/x-python",
   "name": "python",
   "nbconvert_exporter": "python",
   "pygments_lexer": "ipython3",
   "version": "3.9.13"
  },
  "orig_nbformat": 4,
  "vscode": {
   "interpreter": {
    "hash": "35edaf1af3338055e303c7e88f67ea481e8317b7445e8d8c11ee2cf09efc606a"
   }
  }
 },
 "nbformat": 4,
 "nbformat_minor": 2
}
